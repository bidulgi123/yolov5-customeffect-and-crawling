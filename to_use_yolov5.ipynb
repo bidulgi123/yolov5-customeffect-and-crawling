{
 "cells": [
  {
   "cell_type": "code",
   "execution_count": null,
   "metadata": {
    "colab": {
     "base_uri": "https://localhost:8080/"
    },
    "id": "rVklNO3hwWeD",
    "outputId": "b152d348-3509-453a-a06a-22a6a36525c7"
   },
   "outputs": [],
   "source": [
    "#구글 드라이브 마운트\n",
    "from google.colab import drive\n",
    "import os\n",
    "drive.mount('/content/drive/')"
   ]
  },
  {
   "cell_type": "code",
   "execution_count": null,
   "metadata": {
    "colab": {
     "base_uri": "https://localhost:8080/"
    },
    "id": "LjlZeuZaxlcH",
    "outputId": "5cf5af0f-0f82-4462-e377-e287047638c3"
   },
   "outputs": [],
   "source": [
    "#Yolov5 다운로드\n",
    "!git clone https://github.com/ultralytics/yolov5\n",
    "%cd yolov5\n",
    "%pip install -qr requirements.txt\n",
    "\n",
    "# 데이터셋 다운로드 및 세팅\n",
    "!mkdir /content/dataset\n",
    "%cd /content/dataset\n",
    "!curl -s -L \"https://universe.roboflow.com/ds/RCHmjfUtI6?key=6FLwSuWNt5\" > roboflow.zip; unzip -q roboflow.zip; rm roboflow.zip\n",
    "!mkdir /content/dataset2\n",
    "%cd /content/dataset2\n",
    "!curl -s -L \"https://universe.roboflow.com/ds/Gtk9PToLwg?key=bXvrVowYc4\" > roboflow.zip; unzip -q roboflow.zip; rm roboflow.zip\n",
    "!mkdir /content/dataset3\n",
    "%cd /content/dataset3\n",
    "!curl -s -L \"https://universe.roboflow.com/ds/HHNf0N05mb?key=XVsRZj3MSE\" > roboflow.zip; unzip -q roboflow.zip; rm roboflow.zip\n",
    "!mv /content/dataset/train/images/* /content/dataset3/valid/images\n",
    "!mv /content/dataset2/train/images/* /content/dataset3/train/images\n",
    "!mv /content/dataset/train/labels/* /content/dataset3/valid/labels\n",
    "!mv /content/dataset2/train/labels/* /content/dataset3/train/labels\n",
    "!mv /content/dataset3/test/images/* /content/dataset3/train/images\n",
    "!mv /content/dataset3/test/labels/* /content/dataset3/train/labels\n",
    "%cd /content/yolov5\n",
    "!rm -rf /content/dataset /content/dataset2"
   ]
  },
  {
   "cell_type": "code",
   "execution_count": null,
   "metadata": {
    "colab": {
     "base_uri": "https://localhost:8080/"
    },
    "id": "WGmQGJC1mA3E",
    "outputId": "085998bc-13bf-42d6-b53b-2b38aba645db"
   },
   "outputs": [],
   "source": [
    "# train 폴더의 이미지 및 레이블 파일 개수 확인\n",
    "!echo \"Number of images in train folder:\" $(ls -1 /content/dataset3/train/images | wc -l)\n",
    "!echo \"Number of label files in train folder:\" $(ls -1 /content/dataset3/train/labels | wc -l)\n",
    "\n",
    "# valid 폴더의 이미지 및 레이블 파일 개수 확인\n",
    "!echo \"Number of images in valid folder:\" $(ls -1 /content/dataset3/valid/images | wc -l)\n",
    "!echo \"Number of label files in valid folder:\" $(ls -1 /content/dataset3/valid/labels | wc -l)\n",
    "!mv /content/dataset3 /content/dataset"
   ]
  },
  {
   "cell_type": "code",
   "execution_count": null,
   "metadata": {
    "colab": {
     "base_uri": "https://localhost:8080/"
    },
    "id": "HrKHuUwEVvJ3",
    "outputId": "a6360aed-fbc0-4442-f07f-005463c489e6"
   },
   "outputs": [],
   "source": [
    "#yaml파일 수정\n",
    "with open('/content/dataset/data.yaml', 'r') as file:\n",
    "    yaml_content = file.read()\n",
    "print(yaml_content)\n",
    "new_yaml_content = \"\"\"\n",
    "train: /content/dataset/train/images\n",
    "val: /content/dataset/valid/images\n",
    "\n",
    "nc: 1\n",
    "names: ['bat']\n",
    "\"\"\"\n",
    "with open('/content/dataset/data.yaml', 'w') as file:\n",
    "    file.write(new_yaml_content)"
   ]
  },
  {
   "cell_type": "code",
   "execution_count": null,
   "metadata": {
    "colab": {
     "base_uri": "https://localhost:8080/"
    },
    "id": "DJXhkFJ3u769",
    "outputId": "c8e54c82-ed49-47f4-e581-8e12484a1fe1"
   },
   "outputs": [],
   "source": [
    "#yolov5m 다운로드 및 훈련\n",
    "!wget https://github.com/ultralytics/yolov5/releases/download/v4.0/yolov5m.pt\n",
    "!python /content/yolov5/train.py --img-size 640 --batch-size 16 --epochs 1 --data /content/dataset/data.yaml --weights /content/yolov5/yolov5m.pt"
   ]
  },
  {
   "cell_type": "code",
   "execution_count": null,
   "metadata": {
    "colab": {
     "base_uri": "https://localhost:8080/"
    },
    "id": "VqP0JXuWy_i0",
    "outputId": "2307e93b-a29d-41bc-e835-29c07a9f37fe"
   },
   "outputs": [],
   "source": [
    "!python /content/yolov5/detect.py --source \"/content/yolov5/runs/KakaoTalk_20230818_172936348.mp4\" --weight /content/yolov5/runs/train/exp2/weights/best.pt"
   ]
  }
 ],
 "metadata": {
  "accelerator": "GPU",
  "colab": {
   "gpuType": "T4",
   "machine_shape": "hm",
   "provenance": []
  },
  "kernelspec": {
   "display_name": "Python 3 (ipykernel)",
   "language": "python",
   "name": "python3"
  },
  "language_info": {
   "codemirror_mode": {
    "name": "ipython",
    "version": 3
   },
   "file_extension": ".py",
   "mimetype": "text/x-python",
   "name": "python",
   "nbconvert_exporter": "python",
   "pygments_lexer": "ipython3",
   "version": "3.11.4"
  }
 },
 "nbformat": 4,
 "nbformat_minor": 1
}
