{
 "cells": [
  {
   "cell_type": "code",
   "execution_count": 217,
   "id": "9cffd460",
   "metadata": {
    "scrolled": true
   },
   "outputs": [
    {
     "name": "stderr",
     "output_type": "stream",
     "text": [
      "The chromedriver version (114.0.5735.90) detected in PATH at C:\\Users\\mmnnb\\sktflyai_project\\croll\\chromedriver.exe might not be compatible with the detected chrome version (115.0.5790.173); currently, chromedriver 115.0.5790.170 is recommended for chrome 115.*, so it is advised to delete the driver in PATH and retry\n"
     ]
    }
   ],
   "source": [
    "import pandas as pd\n",
    "from bs4 import BeautifulSoup\n",
    "from selenium import webdriver\n",
    "import time\n",
    "driver = webdriver.Chrome()\n",
    "url = 'https://www.koreabaseball.com/Schedule/Schedule.aspx'\n",
    "driver.get(url)\n",
    "time.sleep(2)\n",
    "html_1 = driver.page_source \n",
    "soup_1 = BeautifulSoup(html_1, 'html.parser')\n",
    "q=soup_1.find('div','tbl-type06').find_all('tr')\n",
    "total = []\n",
    "for i in q[1:]:\n",
    "    game = i.find('td', 'play').get_text()\n",
    "    time = i.find('td', 'time').get_text()\n",
    "    p = game.split('vs')\n",
    "    team1 = p[0]\n",
    "    team2 = p[1]\n",
    "    try:\n",
    "        day = i.find('td', 'day').get_text()\n",
    "    except:\n",
    "        day=day\n",
    "    team1_name = ''.join([c for c in team1 if not c.isdigit()])\n",
    "    team1_score = ''.join([c for c in team1 if c.isdigit()])\n",
    "    team2_name = ''.join([c for c in team2 if not c.isdigit()])\n",
    "    team2_score = ''.join([c for c in team2 if c.isdigit()])\n",
    "    total.append((day,time,team1_name, team1_score, team2_name, team2_score))\n",
    "df = pd.DataFrame(total, columns=['날짜','시간','팀1', '점수1', '팀2', '점수2'])\n",
    "df.to_csv('new.csv', encoding='utf-8-sig', index=False)"
   ]
  }
 ],
 "metadata": {
  "kernelspec": {
   "display_name": "croll",
   "language": "python",
   "name": "croll"
  },
  "language_info": {
   "codemirror_mode": {
    "name": "ipython",
    "version": 3
   },
   "file_extension": ".py",
   "mimetype": "text/x-python",
   "name": "python",
   "nbconvert_exporter": "python",
   "pygments_lexer": "ipython3",
   "version": "3.9.0"
  }
 },
 "nbformat": 4,
 "nbformat_minor": 5
}
